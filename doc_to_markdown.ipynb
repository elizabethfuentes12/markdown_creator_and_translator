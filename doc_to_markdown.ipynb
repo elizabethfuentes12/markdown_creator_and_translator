{
 "cells": [
  {
   "cell_type": "code",
   "execution_count": null,
   "metadata": {},
   "outputs": [],
   "source": [
    "from utils import create_markdown, translate_and_join_markdown_files,split_markdown_file,translate_markdown\n",
    "from llm_helper import  get_chat_model\n",
    "import translate\n",
    "import os\n",
    "from langchain_core.messages import HumanMessage\n",
    "chat = get_chat_model(\"normal\")"
   ]
  },
  {
   "cell_type": "markdown",
   "metadata": {},
   "source": [
    "## Convert a URL to Markdown\n",
    "The result is not always clean, requires a small revision\n",
    "\n",
    "Input_file is a url or a .docx file\n",
    "> 💡 Works better with url"
   ]
  },
  {
   "cell_type": "code",
   "execution_count": null,
   "metadata": {},
   "outputs": [],
   "source": [
    "# input_file is a url or a .docx file\n",
    "input_file = \"https://aws.amazon.com/es/blogs/aws-spanish/donde-esta-mi-secret-access-key/\"\n",
    "#input_file = \"docs/you_file.docx\""
   ]
  },
  {
   "cell_type": "code",
   "execution_count": null,
   "metadata": {},
   "outputs": [],
   "source": [
    "## Create a markdown file\n",
    "markdown_file = create_markdown(input_file)\n"
   ]
  },
  {
   "cell_type": "markdown",
   "metadata": {},
   "source": [
    "## Translate markdow file\n"
   ]
  },
  {
   "cell_type": "code",
   "execution_count": null,
   "metadata": {},
   "outputs": [],
   "source": [
    "language = \"italian\"\n",
    "translate_markdown_file= translate_markdown(chat,markdown_file,language)"
   ]
  },
  {
   "cell_type": "code",
   "execution_count": null,
   "metadata": {},
   "outputs": [],
   "source": []
  }
 ],
 "metadata": {
  "kernelspec": {
   "display_name": ".venv",
   "language": "python",
   "name": "python3"
  },
  "language_info": {
   "codemirror_mode": {
    "name": "ipython",
    "version": 3
   },
   "file_extension": ".py",
   "mimetype": "text/x-python",
   "name": "python",
   "nbconvert_exporter": "python",
   "pygments_lexer": "ipython3",
   "version": "3.12.2"
  }
 },
 "nbformat": 4,
 "nbformat_minor": 2
}
