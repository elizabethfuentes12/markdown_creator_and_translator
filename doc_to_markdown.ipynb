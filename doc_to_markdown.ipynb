{
 "cells": [
  {
   "cell_type": "code",
   "execution_count": 8,
   "metadata": {},
   "outputs": [
    {
     "name": "stdout",
     "output_type": "stream",
     "text": [
      "['anthropic.claude-3-sonnet-20240229-v1:0', 'anthropic.claude-3-haiku-20240307-v1:0', 'anthropic.claude-3-opus-20240229-v1:0']\n"
     ]
    }
   ],
   "source": [
    "from utils import convert_docx_to_markdown, load_with_images, convert_html_component_to_markdown,split_markdown_file, join_markdown_files\n",
    "from llm_helper import  get_chat_model\n",
    "import translate\n",
    "import os\n",
    "from langchain_core.messages import HumanMessage\n",
    "chat = get_chat_model(\"normal\")"
   ]
  },
  {
   "cell_type": "markdown",
   "metadata": {},
   "source": []
  },
  {
   "cell_type": "markdown",
   "metadata": {},
   "source": [
    "## Convertir un URL a Markdown\n",
    "El resultado no es limpio requiere una pequeña revisión"
   ]
  },
  {
   "cell_type": "code",
   "execution_count": 3,
   "metadata": {},
   "outputs": [],
   "source": [
    "url = \"https://community.aws/content/2eIBNR2WxhmNjAgjJLyHaBQYZP2/building-a-whatsapp-genai-assistant-with-amazon-bedrock-and-claude-3\"\n",
    "output_file = \"docs/02_Community_WhatsApp.md\"\n",
    "element_type = \"article\"\n",
    "#blog_docx = \"docs/Community_WhatsApp.docx\""
   ]
  },
  {
   "cell_type": "code",
   "execution_count": 9,
   "metadata": {},
   "outputs": [
    {
     "name": "stdout",
     "output_type": "stream",
     "text": [
      "Conversion successful. Markdown file saved as docs/02_Community_WhatsApp.md\n"
     ]
    }
   ],
   "source": [
    "## Crear el markdown\n",
    "#desde un url\n",
    "markdown_content = convert_html_component_to_markdown(url, element_type, output_file) \n",
    "#desde un docx\n",
    "#output_file = convert_docx_to_markdown(blog_docx) \n"
   ]
  },
  {
   "cell_type": "markdown",
   "metadata": {},
   "source": [
    "### Revisa el archivo Markdown creado para asegurarte de que esta bien antes de hacer los chuncks"
   ]
  },
  {
   "cell_type": "code",
   "execution_count": 4,
   "metadata": {},
   "outputs": [
    {
     "name": "stdout",
     "output_type": "stream",
     "text": [
      "El archivo docs/02_Community_WhatsApp.md se ha dividido en 7 chunks en el directorio output.\n"
     ]
    }
   ],
   "source": [
    "# Crear Chuks del Markdown\n",
    "#markdown_file = 'docs/Community _ Building a WhatsApp.md'\n",
    "split_markdown_file(output_file)"
   ]
  },
  {
   "cell_type": "code",
   "execution_count": 6,
   "metadata": {},
   "outputs": [],
   "source": [
    "old_blog_content = load_with_images(output_file)"
   ]
  },
  {
   "cell_type": "code",
   "execution_count": 9,
   "metadata": {},
   "outputs": [
    {
     "name": "stdout",
     "output_type": "stream",
     "text": [
      "{'model_id': 'anthropic.claude-3-sonnet-20240229-v1:0', 'usage': {'prompt_tokens': 882, 'completion_tokens': 946, 'total_tokens': 1828}}\n",
      "{'model_id': 'anthropic.claude-3-sonnet-20240229-v1:0', 'usage': {'prompt_tokens': 900, 'completion_tokens': 843, 'total_tokens': 1743}}\n",
      "{'model_id': 'anthropic.claude-3-sonnet-20240229-v1:0', 'usage': {'prompt_tokens': 916, 'completion_tokens': 806, 'total_tokens': 1722}}\n",
      "{'model_id': 'anthropic.claude-3-sonnet-20240229-v1:0', 'usage': {'prompt_tokens': 756, 'completion_tokens': 735, 'total_tokens': 1491}}\n",
      "{'model_id': 'anthropic.claude-3-sonnet-20240229-v1:0', 'usage': {'prompt_tokens': 727, 'completion_tokens': 718, 'total_tokens': 1445}}\n",
      "{'model_id': 'anthropic.claude-3-sonnet-20240229-v1:0', 'usage': {'prompt_tokens': 708, 'completion_tokens': 787, 'total_tokens': 1495}}\n",
      "{'model_id': 'anthropic.claude-3-sonnet-20240229-v1:0', 'usage': {'prompt_tokens': 493, 'completion_tokens': 438, 'total_tokens': 931}}\n",
      "Los archivos Markdown en output se han unido en el archivo docs/02_Community_WhatsApp.md.\n"
     ]
    }
   ],
   "source": [
    "input_dir = \"output\"\n",
    "language = \"spanish\"\n",
    "output_file.split(\".\")[0]\n",
    "new_output_file = f\"{output_file.split(\".\")[0]}_{language}.md\"\n"
   ]
  },
  {
   "cell_type": "code",
   "execution_count": null,
   "metadata": {},
   "outputs": [],
   "source": [
    "join_markdown_files(input_dir, new_output_file,language)"
   ]
  }
 ],
 "metadata": {
  "kernelspec": {
   "display_name": ".venv",
   "language": "python",
   "name": "python3"
  },
  "language_info": {
   "codemirror_mode": {
    "name": "ipython",
    "version": 3
   },
   "file_extension": ".py",
   "mimetype": "text/x-python",
   "name": "python",
   "nbconvert_exporter": "python",
   "pygments_lexer": "ipython3",
   "version": "3.12.2"
  }
 },
 "nbformat": 4,
 "nbformat_minor": 2
}
